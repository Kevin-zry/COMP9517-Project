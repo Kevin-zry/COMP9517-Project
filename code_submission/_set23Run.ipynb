{
 "cells": [
  {
   "cell_type": "code",
   "execution_count": 17,
   "metadata": {},
   "outputs": [],
   "source": [
    "import cv2\n",
    "import numpy as np\n",
    "import os\n",
    "import copy\n",
    "from matplotlib import pyplot as plt\n",
    "from scipy import ndimage as ndi\n",
    "from skimage.morphology import watershed\n",
    "from skimage.feature import peak_local_max\n",
    "from sklearn.cluster import MeanShift\n",
    "from random import randint\n",
    "#from detector import Detectors\n",
    "from scipy.spatial import distance as dist\n",
    "import collections\n",
    "from collections import OrderedDict\n",
    "from random import randint\n",
    "from math import sqrt"
   ]
  },
  {
   "cell_type": "code",
   "execution_count": 18,
   "metadata": {},
   "outputs": [],
   "source": [
    "class Cell:\n",
    "    def __init__(self, param):\n",
    "        self.frame = param[0]\n",
    "        self.linking_Id = -1\n",
    "        self.center = param[1]\n",
    "\n",
    "        self.long_axis = param[2][1]\n",
    "        self.short_axis = param[2][0]\n",
    "        self.ratio = self.ratio_axis()\n",
    "        self.status = self.find_status(self.ratio)\n",
    "    def update_id(self,ids):\n",
    "        self.linking_Id=ids\n",
    "    def ratio_axis(self):\n",
    "        return self.short_axis/self.long_axis\n",
    "    def find_status(self,ratio):\n",
    "        if ratio<0.16:\n",
    "            return 1\n",
    "        else:\n",
    "            return 0"
   ]
  },
  {
   "cell_type": "code",
   "execution_count": 19,
   "metadata": {},
   "outputs": [],
   "source": [
    "def gray_img(img):\n",
    "    return cv2.cvtColor(img,cv2.COLOR_BGR2GRAY)"
   ]
  },
  {
   "cell_type": "code",
   "execution_count": 20,
   "metadata": {},
   "outputs": [],
   "source": [
    "def normalize(image):\n",
    "    img = image.copy().astype(np.float32)\n",
    "    img -= np.mean(img)\n",
    "    img /= np.linalg.norm(img)\n",
    "    img = np.clip(img, 0, 255)\n",
    "    img *= (1./float(img.max()))\n",
    "    return (img*255).astype(np.uint8)"
   ]
  },
  {
   "cell_type": "code",
   "execution_count": 21,
   "metadata": {},
   "outputs": [],
   "source": [
    "def read_img(path):\n",
    "    sequence_tif = {}\n",
    "    gary_seq_tif = {}\n",
    "    for root, dirs, files, in os.walk(path):\n",
    "        dirs.sort()\n",
    "        for dir in dirs:\n",
    "            sequence_tif[dir] = []\n",
    "            gary_seq_tif[dir] = []\n",
    "            for _, _, files_1 in os.walk(os.path.join(path, dir)):\n",
    "                files_1.sort()\n",
    "                for file in files_1:\n",
    "                    new_dir_path = os.path.join(path, dir)\n",
    "                    temp_img = cv2.imread(os.path.join(new_dir_path, file))\n",
    "                    gray_imgs = gray_img(temp_img.copy())\n",
    "                    sequence_tif[dir].append(temp_img)\n",
    "                    gary_seq_tif[dir].append(gray_imgs)\n",
    "\n",
    "    return sequence_tif,gary_seq_tif"
   ]
  },
  {
   "cell_type": "code",
   "execution_count": 22,
   "metadata": {},
   "outputs": [],
   "source": [
    "def dist(a, b):\n",
    "    return sqrt((a[0] - b[0]) ** 2 + (a[1] - b[1]) ** 2)"
   ]
  },
  {
   "cell_type": "code",
   "execution_count": 7,
   "metadata": {},
   "outputs": [],
   "source": [
    "def dict_cells(sequence):\n",
    "    #cell=Features()\n",
    "    dict_cell={}\n",
    "    list_cell=[]\n",
    "    #frame_cell={}\n",
    "    #contours1=[] \n",
    "    center_sl=[]\n",
    "    for k in range(len(sequence)):\n",
    "        #cell=Features()\n",
    "        #former_list_centers=[]\n",
    "        frame_cell={}\n",
    "        center_elli=[]\n",
    "        frame=sequence[k]\n",
    "        f=copy.copy(frame)\n",
    "        frame_cell['frame']=k\n",
    "        frame_cell['draw_img']=np.asarray(f)\n",
    "        frame_cell['feature']=[]\n",
    "        imgO=normalize(f)\n",
    "        imgO_1=cv2.cvtColor(imgO,cv2.COLOR_BGR2GRAY)\n",
    "        ret0,thresh0 = cv2.threshold(imgO_1,0,255, cv2.THRESH_BINARY + cv2.THRESH_OTSU)\n",
    "        d,contours,hirearchy=cv2.findContours(thresh0, cv2.RETR_TREE, cv2.CHAIN_APPROX_SIMPLE)\n",
    "        contours1=[] \n",
    "        division_cells=[]\n",
    "        #center_sl=[]\n",
    "        num_divide=0\n",
    "        for i in contours:\n",
    "            if cv2.contourArea(i)>25:  \n",
    "                contours1.append(i)\n",
    "        for m,n in zip(contours1,range(len(contours1))):\n",
    "            M = cv2.moments(m)\n",
    "            cX=int(M[\"m10\"]/M[\"m00\"])\n",
    "            cY=int(M[\"m01\"]/M[\"m00\"])\n",
    "            ellipse=cv2.fitEllipse(m)\n",
    "            s_l=ellipse[1][0]/ellipse[1][1]\n",
    "                    #ellipse[1][0]\n",
    "                    #center_sl.append([k,(cX,cY),(ellipse[1][0],ellipse[1][1])])\n",
    "            if s_l<0.16:\n",
    "                division_cells.append(m)\n",
    "            frame_cell['feature'].append([k,(cX,cY),(ellipse[1][0],ellipse[1][1])])\n",
    "        division_num=len(division_cells)\n",
    "        count_num=len(contours1)-1\n",
    "        #division_num=len(division_cells)\n",
    "        frame_cell['count']=count_num\n",
    "        cv2.drawContours(f,contours1,-1,(0,255,0),1)\n",
    "        cv2.drawContours(f,division_cells,-1,(255,255,0),2)\n",
    "        cv2.putText(f, 'number of cells: ' + str(count_num), (50, 50), cv2.FONT_HERSHEY_SIMPLEX, 0.5,(255, 0, 0), 2, cv2.LINE_AA, False)\n",
    "        cv2.putText(f, 'number of divided cells: ' + str(division_num), (10, 10), cv2.FONT_HERSHEY_SIMPLEX, 0.5,(255, 255, 0), 2, cv2.LINE_AA, False)\n",
    "        dict_cell[k]=frame_cell\n",
    "    return dict_cell"
   ]
  },
  {
   "cell_type": "code",
   "execution_count": 15,
   "metadata": {},
   "outputs": [],
   "source": [
    "def record_dict(path2):\n",
    "    original_img,grays=read_img(path2)\n",
    "\n",
    "    return dict_cells(original_img['Sequence 1'])"
   ]
  },
  {
   "cell_type": "code",
   "execution_count": 13,
   "metadata": {},
   "outputs": [],
   "source": [
    "path='D:/jupyter/9517_porject/data/'"
   ]
  },
  {
   "cell_type": "code",
   "execution_count": 14,
   "metadata": {},
   "outputs": [],
   "source": [
    "path2=path+'PhC-C2DL-PSC'"
   ]
  },
  {
   "cell_type": "code",
   "execution_count": 16,
   "metadata": {},
   "outputs": [],
   "source": [
    "maxD = 600\n",
    "cellSpaceTime = []"
   ]
  },
  {
   "cell_type": "code",
   "execution_count": 17,
   "metadata": {},
   "outputs": [],
   "source": [
    "dict_cell=record_dict(path2)"
   ]
  },
  {
   "cell_type": "code",
   "execution_count": 27,
   "metadata": {},
   "outputs": [],
   "source": [
    "result=[dict_cell[i]['feature'] for i in range(426)]"
   ]
  },
  {
   "cell_type": "code",
   "execution_count": 31,
   "metadata": {},
   "outputs": [],
   "source": [
    "tracking_cells=[i for i in range(dict_cell[0]['count'])]"
   ]
  },
  {
   "cell_type": "code",
   "execution_count": 39,
   "metadata": {},
   "outputs": [],
   "source": [
    "num_frame=426"
   ]
  },
  {
   "cell_type": "code",
   "execution_count": 40,
   "metadata": {},
   "outputs": [],
   "source": [
    "initial_cells = []\n",
    "for idx in tracking_cells:\n",
    "    cell = Cell(dict_cell[0]['feature'][idx])\n",
    "    cell.update_id(idx)\n",
    "    initial_cells.append(cell)\n",
    "cellSpaceTime.append(initial_cells)"
   ]
  },
  {
   "cell_type": "code",
   "execution_count": 41,
   "metadata": {},
   "outputs": [],
   "source": [
    "for frame in range(1, num_frame):\n",
    "    cells = [Cell(e) for e in dict_cell[frame]['feature']]\n",
    "    cellSpaceTime.append(cells)"
   ]
  },
  {
   "cell_type": "code",
   "execution_count": 42,
   "metadata": {},
   "outputs": [],
   "source": [
    "for frame in range(num_frame - 1):\n",
    "    f_img = dict_cell[frame]['draw_img']\n",
    "    #divide_num=0\n",
    "    for cur in cellSpaceTime[frame]:\n",
    "        nex_0 = cellSpaceTime[frame + 1][0]\n",
    "        d_min, match = dist(cur.center, nex_0.center), nex_0\n",
    "        for nex in cellSpaceTime[frame + 1]:\n",
    "            d = dist(cur.center, nex.center)\n",
    "            if d < d_min:\n",
    "                d_min, match = d, nex\n",
    "        if d_min < maxD and not (cur.status == 1):\n",
    "            if cur.linking_Id == -1:\n",
    "                cur.update_id(tracking_cells[-1] + 1)\n",
    "                tracking_cells.append(cur.linking_Id)\n",
    "            match.update_id(cur.linking_Id)\n",
    "        #if d_min < maxD and cur.status == 1:\n",
    "            #divide_num+=1\n",
    "    #cv2.putText(f_img, 'number of divided cells: ' + str(divide_num), (10, 10), cv2.FONT_HERSHEY_SIMPLEX, 0.5,(255, 255, 0), 2, cv2.LINE_AA, False)"
   ]
  },
  {
   "cell_type": "code",
   "execution_count": 43,
   "metadata": {},
   "outputs": [],
   "source": [
    "trajectories = {}\n",
    "for time in cellSpaceTime:\n",
    "    for cell in time:\n",
    "        if cell.linking_Id == -1:\n",
    "            continue\n",
    "        if cell.linking_Id not in trajectories:\n",
    "            trajectories[cell.linking_Id] = [(cell.frame, cell.center)]\n",
    "        else:\n",
    "            trajectories[cell.linking_Id].append((cell.frame, cell.center))"
   ]
  },
  {
   "cell_type": "code",
   "execution_count": 44,
   "metadata": {},
   "outputs": [],
   "source": [
    "for frame in range(num_frame - 1):\n",
    "    trajectories = {}\n",
    "    for time in cellSpaceTime:\n",
    "        for cell in time:\n",
    "            if cell.linking_Id == -1:\n",
    "                continue\n",
    "            if cell.linking_Id not in trajectories:\n",
    "                trajectories[cell.linking_Id] = [(cell.frame, cell.center)]\n",
    "            else:\n",
    "                trajectories[cell.linking_Id].append((cell.frame, cell.center))"
   ]
  },
  {
   "cell_type": "code",
   "execution_count": 67,
   "metadata": {},
   "outputs": [
    {
     "name": "stdout",
     "output_type": "stream",
     "text": [
      "frame: 387\n",
      "num of colors: 6586\n"
     ]
    }
   ],
   "source": [
    "frameNo = randint(0, 425)\n",
    "print('frame:', frameNo)\n",
    "paths = {}\n",
    "for idx in trajectories:\n",
    "    for i, item in enumerate(trajectories[idx]):\n",
    "        if item[0] == frameNo:\n",
    "            path = list(zip(*trajectories[idx][:i + 1]))[1]\n",
    "            paths[idx] = path\n",
    "            break\n",
    "\n",
    "colors = tracking_cells\n",
    "print('num of colors:', len(colors))\n",
    "pigment = {i: (randint(0, 255), randint(0, 255), randint(0, 255)) for i in colors}"
   ]
  },
  {
   "cell_type": "code",
   "execution_count": 45,
   "metadata": {},
   "outputs": [],
   "source": [
    "drawing=[]\n",
    "for fnum in range(10):\n",
    "    drawing.append(dict_cell[fnum]['draw_img'])"
   ]
  },
  {
   "cell_type": "code",
   "execution_count": null,
   "metadata": {},
   "outputs": [],
   "source": [
    "u=[]\n",
    "for t in range(10):\n",
    "    paths = {}\n",
    "    for idx in trajectories:\n",
    "        for i, item in enumerate(trajectories[idx]):\n",
    "            if item[0] == t:\n",
    "                path = list(zip(*trajectories[idx][:i + 1]))[1]\n",
    "                paths[idx] = path\n",
    "    u.append(paths)\n",
    "\n",
    "print(u)  "
   ]
  },
  {
   "cell_type": "code",
   "execution_count": 51,
   "metadata": {},
   "outputs": [
    {
     "name": "stdout",
     "output_type": "stream",
     "text": [
      "(10,)\n",
      "(10, 576, 720, 3)\n"
     ]
    }
   ],
   "source": [
    "path_data=np.array(u)\n",
    "final_draw=np.array(drawing)\n",
    "print(path_data.shape)\n",
    "print(final_draw.shape)"
   ]
  },
  {
   "cell_type": "code",
   "execution_count": 52,
   "metadata": {},
   "outputs": [],
   "source": [
    "from drawCalculate import draw_and_calculate\n",
    "draws, outputs = draw_and_calculate(path_data, final_draw)"
   ]
  },
  {
   "cell_type": "code",
   "execution_count": null,
   "metadata": {},
   "outputs": [],
   "source": [
    "draw = dict_cell[frameNo]['draw_img']\n",
    "for n, path in paths.items():\n",
    "    print('n:', n)\n",
    "    print('path:', path)\n",
    "    pts = [np.array(path, dtype=np.int32)]\n",
    "    draw = cv2.polylines(draw, pts, isClosed=False,color=pigment[n], thickness=3) \n",
    "plt.imsave('trackingPhc_'+'86'+'.jpg',draw)"
   ]
  },
  {
   "cell_type": "code",
   "execution_count": 30,
   "metadata": {},
   "outputs": [],
   "source": [
    "for frameNo in range(10):\n",
    "    draw = dict_cell[frameNo]['draw_img']\n",
    "    for n, path in paths.items():\n",
    "        #print('n:', n)\n",
    "        #print('path:', path)\n",
    "        pts = [np.array(path, dtype=np.int32)]\n",
    "        draw = cv2.polylines(draw, pts, isClosed=False,color=pigment[n], thickness=3)\n",
    "\n",
    "    plt.imsave('trackingPhc_overall' + str(frameNo) + '.jpg', draw)"
   ]
  },
  {
   "cell_type": "code",
   "execution_count": null,
   "metadata": {},
   "outputs": [],
   "source": []
  }
 ],
 "metadata": {
  "kernelspec": {
   "display_name": "Python 3",
   "language": "python",
   "name": "python3"
  },
  "language_info": {
   "codemirror_mode": {
    "name": "ipython",
    "version": 3
   },
   "file_extension": ".py",
   "mimetype": "text/x-python",
   "name": "python",
   "nbconvert_exporter": "python",
   "pygments_lexer": "ipython3",
   "version": "3.7.7"
  }
 },
 "nbformat": 4,
 "nbformat_minor": 2
}
