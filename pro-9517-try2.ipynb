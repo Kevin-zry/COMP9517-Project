{
 "cells": [
  {
   "cell_type": "code",
   "execution_count": null,
   "metadata": {},
   "outputs": [],
   "source": [
    "import cv2\n",
    "import numpy as np\n",
    "import os\n",
    "import copy\n",
    "from matplotlib import pyplot as plt\n",
    "from scipy import ndimage as ndi\n",
    "from skimage.morphology import watershed\n",
    "from skimage.feature import peak_local_max\n",
    "from sklearn.cluster import MeanShift\n",
    "from random import randint\n",
    "#from detector import Detectors\n",
    "#from scipy.spatial import distance as dist"
   ]
  },
  {
   "cell_type": "code",
   "execution_count": null,
   "metadata": {},
   "outputs": [],
   "source": [
    "def gray_img(img):\n",
    "    return cv2.cvtColor(img,cv2.COLOR_BGR2GRAY)"
   ]
  },
  {
   "cell_type": "code",
   "execution_count": null,
   "metadata": {},
   "outputs": [],
   "source": [
    "def read_img(path):\n",
    "    sequence_tif = {}\n",
    "    gary_seq_tif = {}\n",
    "    for root, dirs, files, in os.walk(path):\n",
    "        dirs.sort()\n",
    "        for dir in dirs:\n",
    "            sequence_tif[dir] = []\n",
    "            gary_seq_tif[dir] = []\n",
    "            for _, _, files_1 in os.walk(os.path.join(path, dir)):\n",
    "                files_1.sort()\n",
    "                for file in files_1:\n",
    "                    new_dir_path = os.path.join(path, dir)\n",
    "                    temp_img = cv2.imread(os.path.join(new_dir_path, file))\n",
    "                    gray_imgs = gray_img(temp_img.copy())\n",
    "                    sequence_tif[dir].append(temp_img)\n",
    "                    gary_seq_tif[dir].append(gray_imgs)\n",
    "\n",
    "    return sequence_tif,gary_seq_tif"
   ]
  },
  {
   "cell_type": "code",
   "execution_count": null,
   "metadata": {},
   "outputs": [],
   "source": [
    "#ass1\n",
    "def max_filter(img,N,m):\n",
    "    imgA=np.zeros_like(img)\n",
    "    #imgA=img.copy()\n",
    "    padding_img=cv2.copyMakeBorder(img,m,m,m,m,cv2.BORDER_CONSTANT)\n",
    "    for r in range(img.shape[0]):\n",
    "        for c in range(img.shape[1]):\n",
    "            new=padding_img[r:r+N,c:c+N].copy()\n",
    "            #new=new*mask\n",
    "            minval,maxval,minindex,maxindex=cv2.minMaxLoc(new)\n",
    "            imgA[r,c]=maxval\n",
    "    return imgA\n",
    "def min_filter(img,N,m):\n",
    "    imgB=np.zeros_like(img)\n",
    "    #imgB=img.copy()\n",
    "    padding_img=cv2.copyMakeBorder(img,m,m,m,m,cv2.BORDER_CONSTANT)\n",
    "    for r in range(img.shape[0]):\n",
    "        for c in range(img.shape[1]):\n",
    "            new=padding_img[r:r+N,c:c+N].copy()\n",
    "            #new=new*mask\n",
    "            minval,maxval,minindex,maxindex=cv2.minMaxLoc(new)\n",
    "            imgB[r,c] = minval\n",
    "    return imgB\n",
    "def subtract_img(img1,img2):\n",
    "    img_O=np.zeros_like(img1)\n",
    "    for r in range(img1.shape[0]):\n",
    "        for c in range(img1.shape[1]):\n",
    "            img_O[r,c]=img1[r,c].astype('int32')-img2[r,c].astype('int32')\n",
    "            #if img_O[r,c]<=0:\n",
    "                #img_O[r,c]+=255\n",
    "        \n",
    "    min=np.min(img_O)\n",
    "    max=np.max(img_O)\n",
    "    for r in range(img_O.shape[0]):\n",
    "        for c in range(img_O.shape[1]):\n",
    "            img_O[r,c]=(img_O[r,c]-min)*(255/(max-min))\n",
    "        \n",
    "    img_O=img_O.astype(np.uint8)\n",
    "    return img_O"
   ]
  },
  {
   "cell_type": "code",
   "execution_count": null,
   "metadata": {},
   "outputs": [],
   "source": [
    "def task1(img,gray):\n",
    "    N=27\n",
    "    m=N//2\n",
    "    imgA=min_filter(gray,N,m)\n",
    "    imgB=max_filter(imgA,N,m)\n",
    "    imgO=subtract_img(img,imgB)\n",
    "    imgO_1=cv2.cvtColor(imgO,cv2.COLOR_BGR2GRAY)\n",
    "    ret0,thresh0 = cv2.threshold(imgO_1,0,255, cv2.THRESH_BINARY + cv2.THRESH_OTSU)\n",
    "    # Deal with the situation where cells are connected together\n",
    "    d,contours,hirearchy=cv2.findContours(thresh0, cv2.RETR_TREE, cv2.CHAIN_APPROX_SIMPLE)\n",
    "    #Find connected domains\n",
    "    #comparing the area of connected domains\n",
    "    contours1=[] \n",
    "    for i in contours:\n",
    "         if cv2.contourArea(i)>25:  #Remove small connected areas\n",
    "            contours1.append(i)\n",
    "    #draw circles around cells\n",
    "    draw=cv2.drawContours(img,contours1,-1,(0,255,0),1)\n",
    "    # mark the number\n",
    "    for i,j in zip(contours1,range(len(contours1))):\n",
    "        M = cv2.moments(i)\n",
    "        cX=int(M[\"m10\"]/M[\"m00\"])\n",
    "        cY=int(M[\"m01\"]/M[\"m00\"])\n",
    "        draw1=cv2.putText(draw, str(j), (cX, cY), 1,1, (255, 0, 255), 1)\n",
    "    #plt.imshow(draw1,'gray')\n",
    "    #for index in range(len(contours1)-1):\n",
    "    #    plt.imsave('cell1_'+str(index)+'.jpg',draw1)\n",
    "    return divide"
   ]
  },
  {
   "cell_type": "code",
   "execution_count": null,
   "metadata": {},
   "outputs": [],
   "source": [
    "def track_objects(sequence):\n",
    "        track_types={\"BOOSTING\":cv2.TrackerBoosting_create, \"MIL\":cv2.TrackerBoosting_create, \"KCF\":cv2.TrackerBoosting_create, \"TLD\":cv2.TrackerBoosting_create, \"MEDIANFLOW\":cv2.TrackerBoosting_create, \"GOTURN\":cv2.TrackerBoosting_create, \"MOSSE\":cv2.TrackerBoosting_create, \"CSRT\":cv2.TrackerBoosting_create}\n",
    "        multitracker=track_types['KCF']()\n",
    "        for i in range(len(sequence)):\n",
    "            frame=sequence[i]\n",
    "            g=gray_img(frame)\n",
    "            orig=copy.copy(frame)\n",
    "            t=task1(frame,g)\n",
    "            plt.imsave('task2_0'+str(i)+'.jpg',t)"
   ]
  },
  {
   "cell_type": "code",
   "execution_count": null,
   "metadata": {},
   "outputs": [],
   "source": [
    "path='/Users/admin/Downloads/COMP9517 20T2 Group Project Image Sequences-2/'"
   ]
  },
  {
   "cell_type": "code",
   "execution_count": null,
   "metadata": {},
   "outputs": [],
   "source": [
    "#len(read_img(path)[0]['Sequence 1'])\n",
    "#read_img(path)[0]['Sequence 1'][i][j]"
   ]
  },
  {
   "cell_type": "code",
   "execution_count": null,
   "metadata": {},
   "outputs": [],
   "source": [
    "path2=path+'PhC-C2DL-PSC'\n",
    "original_img,grays=read_img(path2)\n",
    "track_objects(original_img['Sequence 1'])"
   ]
  },
  {
   "cell_type": "code",
   "execution_count": null,
   "metadata": {},
   "outputs": [],
   "source": []
  }
 ],
 "metadata": {
  "kernelspec": {
   "display_name": "Python 3",
   "language": "python",
   "name": "python3"
  },
  "language_info": {
   "codemirror_mode": {
    "name": "ipython",
    "version": 3
   },
   "file_extension": ".py",
   "mimetype": "text/x-python",
   "name": "python",
   "nbconvert_exporter": "python",
   "pygments_lexer": "ipython3",
   "version": "3.7.3"
  }
 },
 "nbformat": 4,
 "nbformat_minor": 2
}
